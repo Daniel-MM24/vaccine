{
 "cells": [
  {
   "cell_type": "markdown",
   "metadata": {},
   "source": [
    "## Business Problem \n",
    "\n",
    "How can public health organizations effectively increase the uptake of H1N1 and Seasonal flu vaccines by identifying key influencing factors and targeting the right populations with tailored interventions?\n"
   ]
  },
  {
   "cell_type": "markdown",
   "metadata": {},
   "source": [
    "## Business Understanding\n",
    "\n",
    "From the H1N1 and Seasonal flu vaccine dataset, the following business questions and insights can be addressed:\n",
    "\n",
    "1. What are the key factors influencing vaccination uptake for H1N1 and Seasonal flu?\n",
    "\n",
    "2. What is the distribution of vaccine uptake in the population?\n",
    "\n",
    "3. How do behaviours and opinions influence vaccine adoption?\n",
    "\n",
    "4. Can we predict the likelihood of individuals receiving the H1N1 and Seasonal flu vaccine? If so, what are the most important factors?\n",
    "\n"
   ]
  },
  {
   "cell_type": "markdown",
   "metadata": {},
   "source": [
    "## Data Understanding   \n",
    "\n",
    "The dataset contains 261,407 observations, with 38 features. The target variables are h1n1_vaccine and seasonal_vaccine. The dataset includes various features related to respondents' behaviours, demographics, and knowledge about H1N1 and seasonal flu.\n",
    "\n",
    "\n"
   ]
  },
  {
   "cell_type": "markdown",
   "metadata": {},
   "source": [
    "### Loading Libraries"
   ]
  },
  {
   "cell_type": "code",
   "execution_count": 4,
   "metadata": {},
   "outputs": [],
   "source": [
    "import pandas as pd\n",
    "import numpy as np\n",
    "import matplotlib.pyplot as plt\n",
    "import seaborn as sns\n",
    "from sklearn.impute import SimpleImputer\n",
    "from sklearn.preprocessing  import StandardScaler, OneHotEncoder\n",
    "from sklearn.linear_model import LogisticRegression\n",
    "from sklearn.model_selection import train_test_split, GridSearchCV\n",
    "from sklearn.metrics import (roc_auc_score, classification_report)\n",
    "from sklearn.ensemble import RandomForestClassifier\n"
   ]
  },
  {
   "cell_type": "code",
   "execution_count": 5,
   "metadata": {},
   "outputs": [
    {
     "data": {
      "text/html": [
       "<div>\n",
       "<style scoped>\n",
       "    .dataframe tbody tr th:only-of-type {\n",
       "        vertical-align: middle;\n",
       "    }\n",
       "\n",
       "    .dataframe tbody tr th {\n",
       "        vertical-align: top;\n",
       "    }\n",
       "\n",
       "    .dataframe thead th {\n",
       "        text-align: right;\n",
       "    }\n",
       "</style>\n",
       "<table border=\"1\" class=\"dataframe\">\n",
       "  <thead>\n",
       "    <tr style=\"text-align: right;\">\n",
       "      <th></th>\n",
       "      <th>respondent_id</th>\n",
       "      <th>h1n1_concern</th>\n",
       "      <th>h1n1_knowledge</th>\n",
       "      <th>behavioral_antiviral_meds</th>\n",
       "      <th>behavioral_avoidance</th>\n",
       "      <th>behavioral_face_mask</th>\n",
       "      <th>behavioral_wash_hands</th>\n",
       "      <th>behavioral_large_gatherings</th>\n",
       "      <th>behavioral_outside_home</th>\n",
       "      <th>behavioral_touch_face</th>\n",
       "      <th>...</th>\n",
       "      <th>rent_or_own</th>\n",
       "      <th>employment_status</th>\n",
       "      <th>hhs_geo_region</th>\n",
       "      <th>census_msa</th>\n",
       "      <th>household_adults</th>\n",
       "      <th>household_children</th>\n",
       "      <th>employment_industry</th>\n",
       "      <th>employment_occupation</th>\n",
       "      <th>h1n1_vaccine</th>\n",
       "      <th>seasonal_vaccine</th>\n",
       "    </tr>\n",
       "  </thead>\n",
       "  <tbody>\n",
       "    <tr>\n",
       "      <th>0</th>\n",
       "      <td>0</td>\n",
       "      <td>1.0</td>\n",
       "      <td>0.0</td>\n",
       "      <td>0.0</td>\n",
       "      <td>0.0</td>\n",
       "      <td>0.0</td>\n",
       "      <td>0.0</td>\n",
       "      <td>0.0</td>\n",
       "      <td>1.0</td>\n",
       "      <td>1.0</td>\n",
       "      <td>...</td>\n",
       "      <td>Own</td>\n",
       "      <td>Not in Labor Force</td>\n",
       "      <td>oxchjgsf</td>\n",
       "      <td>Non-MSA</td>\n",
       "      <td>0.0</td>\n",
       "      <td>0.0</td>\n",
       "      <td>NaN</td>\n",
       "      <td>NaN</td>\n",
       "      <td>0</td>\n",
       "      <td>0</td>\n",
       "    </tr>\n",
       "    <tr>\n",
       "      <th>1</th>\n",
       "      <td>1</td>\n",
       "      <td>3.0</td>\n",
       "      <td>2.0</td>\n",
       "      <td>0.0</td>\n",
       "      <td>1.0</td>\n",
       "      <td>0.0</td>\n",
       "      <td>1.0</td>\n",
       "      <td>0.0</td>\n",
       "      <td>1.0</td>\n",
       "      <td>1.0</td>\n",
       "      <td>...</td>\n",
       "      <td>Rent</td>\n",
       "      <td>Employed</td>\n",
       "      <td>bhuqouqj</td>\n",
       "      <td>MSA, Not Principle  City</td>\n",
       "      <td>0.0</td>\n",
       "      <td>0.0</td>\n",
       "      <td>pxcmvdjn</td>\n",
       "      <td>xgwztkwe</td>\n",
       "      <td>0</td>\n",
       "      <td>1</td>\n",
       "    </tr>\n",
       "    <tr>\n",
       "      <th>2</th>\n",
       "      <td>2</td>\n",
       "      <td>1.0</td>\n",
       "      <td>1.0</td>\n",
       "      <td>0.0</td>\n",
       "      <td>1.0</td>\n",
       "      <td>0.0</td>\n",
       "      <td>0.0</td>\n",
       "      <td>0.0</td>\n",
       "      <td>0.0</td>\n",
       "      <td>0.0</td>\n",
       "      <td>...</td>\n",
       "      <td>Own</td>\n",
       "      <td>Employed</td>\n",
       "      <td>qufhixun</td>\n",
       "      <td>MSA, Not Principle  City</td>\n",
       "      <td>2.0</td>\n",
       "      <td>0.0</td>\n",
       "      <td>rucpziij</td>\n",
       "      <td>xtkaffoo</td>\n",
       "      <td>0</td>\n",
       "      <td>0</td>\n",
       "    </tr>\n",
       "    <tr>\n",
       "      <th>3</th>\n",
       "      <td>3</td>\n",
       "      <td>1.0</td>\n",
       "      <td>1.0</td>\n",
       "      <td>0.0</td>\n",
       "      <td>1.0</td>\n",
       "      <td>0.0</td>\n",
       "      <td>1.0</td>\n",
       "      <td>1.0</td>\n",
       "      <td>0.0</td>\n",
       "      <td>0.0</td>\n",
       "      <td>...</td>\n",
       "      <td>Rent</td>\n",
       "      <td>Not in Labor Force</td>\n",
       "      <td>lrircsnp</td>\n",
       "      <td>MSA, Principle City</td>\n",
       "      <td>0.0</td>\n",
       "      <td>0.0</td>\n",
       "      <td>NaN</td>\n",
       "      <td>NaN</td>\n",
       "      <td>0</td>\n",
       "      <td>1</td>\n",
       "    </tr>\n",
       "    <tr>\n",
       "      <th>4</th>\n",
       "      <td>4</td>\n",
       "      <td>2.0</td>\n",
       "      <td>1.0</td>\n",
       "      <td>0.0</td>\n",
       "      <td>1.0</td>\n",
       "      <td>0.0</td>\n",
       "      <td>1.0</td>\n",
       "      <td>1.0</td>\n",
       "      <td>0.0</td>\n",
       "      <td>1.0</td>\n",
       "      <td>...</td>\n",
       "      <td>Own</td>\n",
       "      <td>Employed</td>\n",
       "      <td>qufhixun</td>\n",
       "      <td>MSA, Not Principle  City</td>\n",
       "      <td>1.0</td>\n",
       "      <td>0.0</td>\n",
       "      <td>wxleyezf</td>\n",
       "      <td>emcorrxb</td>\n",
       "      <td>0</td>\n",
       "      <td>0</td>\n",
       "    </tr>\n",
       "  </tbody>\n",
       "</table>\n",
       "<p>5 rows × 38 columns</p>\n",
       "</div>"
      ],
      "text/plain": [
       "   respondent_id  h1n1_concern  h1n1_knowledge  behavioral_antiviral_meds  \\\n",
       "0              0           1.0             0.0                        0.0   \n",
       "1              1           3.0             2.0                        0.0   \n",
       "2              2           1.0             1.0                        0.0   \n",
       "3              3           1.0             1.0                        0.0   \n",
       "4              4           2.0             1.0                        0.0   \n",
       "\n",
       "   behavioral_avoidance  behavioral_face_mask  behavioral_wash_hands  \\\n",
       "0                   0.0                   0.0                    0.0   \n",
       "1                   1.0                   0.0                    1.0   \n",
       "2                   1.0                   0.0                    0.0   \n",
       "3                   1.0                   0.0                    1.0   \n",
       "4                   1.0                   0.0                    1.0   \n",
       "\n",
       "   behavioral_large_gatherings  behavioral_outside_home  \\\n",
       "0                          0.0                      1.0   \n",
       "1                          0.0                      1.0   \n",
       "2                          0.0                      0.0   \n",
       "3                          1.0                      0.0   \n",
       "4                          1.0                      0.0   \n",
       "\n",
       "   behavioral_touch_face  ...  rent_or_own   employment_status  \\\n",
       "0                    1.0  ...          Own  Not in Labor Force   \n",
       "1                    1.0  ...         Rent            Employed   \n",
       "2                    0.0  ...          Own            Employed   \n",
       "3                    0.0  ...         Rent  Not in Labor Force   \n",
       "4                    1.0  ...          Own            Employed   \n",
       "\n",
       "   hhs_geo_region                census_msa  household_adults  \\\n",
       "0        oxchjgsf                   Non-MSA               0.0   \n",
       "1        bhuqouqj  MSA, Not Principle  City               0.0   \n",
       "2        qufhixun  MSA, Not Principle  City               2.0   \n",
       "3        lrircsnp       MSA, Principle City               0.0   \n",
       "4        qufhixun  MSA, Not Principle  City               1.0   \n",
       "\n",
       "   household_children  employment_industry  employment_occupation  \\\n",
       "0                 0.0                  NaN                    NaN   \n",
       "1                 0.0             pxcmvdjn               xgwztkwe   \n",
       "2                 0.0             rucpziij               xtkaffoo   \n",
       "3                 0.0                  NaN                    NaN   \n",
       "4                 0.0             wxleyezf               emcorrxb   \n",
       "\n",
       "   h1n1_vaccine  seasonal_vaccine  \n",
       "0             0                 0  \n",
       "1             0                 1  \n",
       "2             0                 0  \n",
       "3             0                 1  \n",
       "4             0                 0  \n",
       "\n",
       "[5 rows x 38 columns]"
      ]
     },
     "execution_count": 5,
     "metadata": {},
     "output_type": "execute_result"
    }
   ],
   "source": [
    "# Load the dataset\n",
    "data = pd.read_csv('Data/H1N1_Flu_Vaccines.csv')\n",
    "# display the first 5 rows \n",
    "data.head()"
   ]
  },
  {
   "cell_type": "code",
   "execution_count": 6,
   "metadata": {},
   "outputs": [
    {
     "data": {
      "text/plain": [
       "(26707, 38)"
      ]
     },
     "execution_count": 6,
     "metadata": {},
     "output_type": "execute_result"
    }
   ],
   "source": [
    "data.shape"
   ]
  },
  {
   "cell_type": "markdown",
   "metadata": {},
   "source": [
    "The dataset contains 38 columns, including features related to respondents' behaviours, demographics, and knowledge about H1N1 and seasonal flu, along with two target variables \n",
    "\n",
    "1. **h1n1_vaccine**: Whether the respondent received the H1N1 vaccine (0 = No, 1 = Yes).\n",
    "2. **seasonal_vaccine**: Whether the respondent received the seasonal flu vaccine (0 = No, 1 = Yes).\n"
   ]
  },
  {
   "cell_type": "markdown",
   "metadata": {},
   "source": [
    "### Checking for missing values "
   ]
  },
  {
   "cell_type": "code",
   "execution_count": 7,
   "metadata": {},
   "outputs": [],
   "source": [
    "# create a copy of the dataset\n",
    "\n",
    "data = data.copy()"
   ]
  },
  {
   "cell_type": "code",
   "execution_count": 8,
   "metadata": {},
   "outputs": [
    {
     "name": "stdout",
     "output_type": "stream",
     "text": [
      "Missing Data Summary:\n",
      "                             Missing Values  Percentage\n",
      "employment_occupation                 13470   50.436215\n",
      "employment_industry                   13330   49.912008\n",
      "health_insurance                      12274   45.957989\n",
      "income_poverty                         4423   16.561201\n",
      "doctor_recc_h1n1                       2160    8.087767\n",
      "doctor_recc_seasonal                   2160    8.087767\n",
      "rent_or_own                            2042    7.645936\n",
      "employment_status                      1463    5.477965\n",
      "marital_status                         1408    5.272026\n",
      "education                              1407    5.268282\n",
      "chronic_med_condition                   971    3.635751\n",
      "child_under_6_months                    820    3.070356\n",
      "health_worker                           804    3.010447\n",
      "opinion_seas_sick_from_vacc             537    2.010709\n",
      "opinion_seas_risk                       514    1.924589\n",
      "opinion_seas_vacc_effective             462    1.729884\n",
      "opinion_h1n1_sick_from_vacc             395    1.479013\n",
      "opinion_h1n1_vacc_effective             391    1.464036\n",
      "opinion_h1n1_risk                       388    1.452803\n",
      "household_adults                        249    0.932340\n",
      "household_children                      249    0.932340\n",
      "behavioral_avoidance                    208    0.778822\n",
      "behavioral_touch_face                   128    0.479275\n",
      "h1n1_knowledge                          116    0.434343\n",
      "h1n1_concern                             92    0.344479\n",
      "behavioral_large_gatherings              87    0.325757\n",
      "behavioral_outside_home                  82    0.307036\n",
      "behavioral_antiviral_meds                71    0.265848\n",
      "behavioral_wash_hands                    42    0.157262\n",
      "behavioral_face_mask                     19    0.071142\n"
     ]
    }
   ],
   "source": [
    "# checking for missing data\n",
    "def checking_missing_data(dataframe):\n",
    "    missing_data = dataframe.isnull().sum().sort_values(ascending=False)\n",
    "    missing_percentage = (missing_data/len(dataframe)) * 100\n",
    "    \n",
    "    missing_summary = pd.DataFrame({\n",
    "        'Missing Values': missing_data,\n",
    "        'Percentage': missing_percentage\n",
    "    })\n",
    "    \n",
    "    missing_summary = missing_summary[missing_summary['Missing Values'] > 0]\n",
    "    \n",
    "    return missing_summary\n",
    "\n",
    "missing_summary = checking_missing_data(data)\n",
    "print(\"Missing Data Summary:\")\n",
    "print(missing_summary)"
   ]
  },
  {
   "cell_type": "markdown",
   "metadata": {},
   "source": [
    "*Summary of missing Values*\n",
    "\n",
    "Significant missing data is found in \n",
    "\n",
    "1. **employment_occupation**: 50.4% missing data\n",
    "2. **employment_industry**: 49.9% missing data\n",
    "3. **health_insurance**: 46.0% missing data\n",
    "4. **income_poverty**: 16.6% missing data"
   ]
  },
  {
   "cell_type": "markdown",
   "metadata": {},
   "source": [
    "### Distribution of the target variables"
   ]
  },
  {
   "cell_type": "code",
   "execution_count": 9,
   "metadata": {},
   "outputs": [
    {
     "data": {
      "text/plain": [
       "h1n1_vaccine        21.245366\n",
       "seasonal_vaccine    46.560827\n",
       "dtype: float64"
      ]
     },
     "execution_count": 9,
     "metadata": {},
     "output_type": "execute_result"
    }
   ],
   "source": [
    "# Analyze the distribution of the target variable \n",
    "target_distribution = data[['h1n1_vaccine', 'seasonal_vaccine']].mean()\n",
    "\n",
    "# display the percentage of respondents who received each vaccine \n",
    "target_distribution * 100"
   ]
  },
  {
   "cell_type": "markdown",
   "metadata": {},
   "source": [
    "- ***H1N1 Vaccine***: About 21.25% of the respondents received the H1N1 vaccine\n",
    "- ***Seasonal Flu Vaccine***: About 46.56% of respondents received the seasonal flu vaccine\n",
    "\n",
    "This indicates an imbalance in the target variables, particularly for the H1N1 vaccine. \n",
    "\n"
   ]
  },
  {
   "cell_type": "code",
   "execution_count": 10,
   "metadata": {},
   "outputs": [
    {
     "name": "stdout",
     "output_type": "stream",
     "text": [
      "h1n1_vaccine Class Distribution:\n",
      "0    21033\n",
      "1     5674\n",
      "Name: h1n1_vaccine, dtype: int64\n",
      "\n",
      "Proportions:\n",
      "0    78.754634\n",
      "1    21.245366\n",
      "Name: h1n1_vaccine, dtype: float64\n"
     ]
    },
    {
     "data": {
      "image/png": "[encoded data removed]",
      "text/plain": [
       "<Figure size 576x288 with 1 Axes>"
      ]
     },
     "metadata": {
      "needs_background": "light"
     },
     "output_type": "display_data"
    },
    {
     "name": "stdout",
     "output_type": "stream",
     "text": [
      "seasonal_vaccine Class Distribution:\n",
      "0    14272\n",
      "1    12435\n",
      "Name: seasonal_vaccine, dtype: int64\n",
      "\n",
      "Proportions:\n",
      "0    53.439173\n",
      "1    46.560827\n",
      "Name: seasonal_vaccine, dtype: float64\n"
     ]
    },
    {
     "data": {
      "image/png": "[encoded data removed]",
      "text/plain": [
       "<Figure size 576x288 with 1 Axes>"
      ]
     },
     "metadata": {
      "needs_background": "light"
     },
     "output_type": "display_data"
    }
   ],
   "source": [
    "# Function to check class distribution\n",
    "def check_distribution(data, column):\n",
    "    counts = data[column].value_counts()\n",
    "    proportions = data[column].value_counts(normalize=True)\n",
    "    perc_proportions = proportions * 100\n",
    "    print(f\"{column} Class Distribution:\")\n",
    "    print(counts)\n",
    "    print(\"\\nProportions:\")\n",
    "    print(perc_proportions)\n",
    "    return counts\n",
    "\n",
    "# Function to plot bar graphs\n",
    "def plot_distribution(counts, title, labels):\n",
    "    plt.figure(figsize=(8, 4))\n",
    "    plt.bar(counts.index, counts.values, color=['skyblue', 'orange'])\n",
    "    plt.title(title)\n",
    "    plt.xticks(counts.index, labels)\n",
    "    plt.ylabel('Count')\n",
    "    plt.show()\n",
    "\n",
    "h1n1_counts = check_distribution(data, 'h1n1_vaccine')\n",
    "plot_distribution(h1n1_counts, 'H1N1 Vaccine Class Distribution', ['Not Vaccinated', 'Vaccinated'])\n",
    "\n",
    "seasonal_counts = check_distribution(data, 'seasonal_vaccine')\n",
    "plot_distribution(seasonal_counts, 'Seasonal Vaccine Class Distribution', ['Not Vaccinated', 'Vaccinated'])\n"
   ]
  },
  {
   "cell_type": "markdown",
   "metadata": {},
   "source": [
    "### Insights\n",
    "- H1N1 vaccine\n",
    "\n",
    "The dataset is highly imbalanced for h1n1_vaccine target variable, with significantly more individuals not receiving the vaccine (almost 79%) compared to who did (about 21%).\n",
    "\n",
    "- Seasonal flu vaccine\n",
    "\n",
    "The seasonal_vaccine variable shows a more balanced distribution, with a slight majority of individuals not receiving the vaccine (53.44%) compared to those who did (46.56%).\n",
    "\n",
    "Evaluating model perfomance with metrics like AUC-ROC, F1=score, or Precision-Recall Curve, are more appropriate for this imbalanced datasets.\n"
   ]
  },
  {
   "cell_type": "markdown",
   "metadata": {},
   "source": [
    "### Exploratory Data Analysis (EDA)"
   ]
  },
  {
   "cell_type": "markdown",
   "metadata": {},
   "source": [
    "#### Overview of vaccine uptake for H1N1 and Seasonal Flu"
   ]
  },
  {
   "cell_type": "code",
   "execution_count": 11,
   "metadata": {},
   "outputs": [
    {
     "data": {
      "image/png": "[encoded data removed]",
      "text/plain": [
       "<Figure size 576x360 with 1 Axes>"
      ]
     },
     "metadata": {},
     "output_type": "display_data"
    }
   ],
   "source": [
    "# Overview of vaccine uptake for H1N1 and Seasonal Flu\n",
    "vaccine_counts = data[[\"h1n1_vaccine\", \"seasonal_vaccine\"]].sum()\n",
    "vaccine_counts.index = [\"H1N1 Vaccine Uptake\", \"Seasonal Vaccine Uptake\"]\n",
    "\n",
    "# Plot vaccine uptake\n",
    "sns.set(style=\"whitegrid\")\n",
    "plt.rcParams[\"figure.figsize\"] = (10, 6)\n",
    "plt.figure(figsize=(8, 5))\n",
    "sns.barplot(x=vaccine_counts.index, y=vaccine_counts.values, palette=\"viridis\")\n",
    "plt.title(\"Vaccine Uptake Overview\", fontsize=16)\n",
    "plt.ylabel(\"Number of Respondents\", fontsize=12)\n",
    "plt.xticks(fontsize=10)\n",
    "plt.tight_layout()\n",
    "plt.show()"
   ]
  },
  {
   "cell_type": "markdown",
   "metadata": {},
   "source": [
    "**Insights**\n",
    "- H1N1 Vaccine Uptake: Less uptake compared to the seasonal flu vaccine.\n",
    "- Seasonal Flu Vaccine Uptake: Higher in comparison to H1N1 Vaccine Uptake."
   ]
  },
  {
   "cell_type": "markdown",
   "metadata": {},
   "source": [
    "#### Vaccine Uptake by Demographics (Age)"
   ]
  },
  {
   "cell_type": "code",
   "execution_count": 12,
   "metadata": {},
   "outputs": [
    {
     "data": {
      "image/png": "[encoded data removed]",
      "text/plain": [
       "<Figure size 720x432 with 1 Axes>"
      ]
     },
     "metadata": {},
     "output_type": "display_data"
    }
   ],
   "source": [
    "# Plot H1N1 vaccine and Seasonal flu vaccine uptake by age group\n",
    "age_vaccine = data.groupby(\"age_group\")[[\"h1n1_vaccine\", \"seasonal_vaccine\"]].mean().reset_index()\n",
    "age_vaccine_melted = age_vaccine.melt(id_vars=\"age_group\", var_name=\"Vaccine\", value_name=\"Uptake Rate\")\n",
    "\n",
    "plt.figure(figsize=(10, 6))\n",
    "sns.barplot(x=\"age_group\", y=\"Uptake Rate\", hue=\"Vaccine\", data=age_vaccine_melted, palette=\"Set2\")\n",
    "plt.title(\"Vaccine Uptake by Age Group\", fontsize=16)\n",
    "plt.ylabel(\"Average Uptake Rate\", fontsize=12)\n",
    "plt.xlabel(\"Age Group\", fontsize=12)\n",
    "plt.xticks(rotation=45, fontsize=10)\n",
    "plt.tight_layout()\n",
    "plt.show()"
   ]
  },
  {
   "cell_type": "markdown",
   "metadata": {},
   "source": [
    "**Insights**\n",
    "\n",
    "Older age groups show higher uptake for both vacccines, which aligns with risk perception and public health priorities."
   ]
  },
  {
   "cell_type": "markdown",
   "metadata": {},
   "source": [
    "## Modelling"
   ]
  },
  {
   "cell_type": "markdown",
   "metadata": {},
   "source": [
    "**Why use a machine learning model?**"
   ]
  },
  {
   "cell_type": "markdown",
   "metadata": {},
   "source": [
    "- Challenge: Vaccine uptake is influenced by multiple factors (e.g., demographics, behavior, access to healthcare), and their relationships can be non-linear and complex.\n",
    "\n",
    "- ML Solution: ML models like Random Forests and Logistic Regression identify the most important features influencing uptake, such as physician recommendations, education, or insurance status.\n",
    "This helps focus on actionable factors to improve vaccination rates."
   ]
  },
  {
   "cell_type": "code",
   "execution_count": 13,
   "metadata": {},
   "outputs": [],
   "source": [
    "# Drop high-missing-value features\n",
    "drop_features = ['employment_industry', 'employment_occupation', 'health_insurance', 'income_poverty']\n",
    "data = data.drop(columns=drop_features)"
   ]
  },
  {
   "cell_type": "markdown",
   "metadata": {},
   "source": [
    "- Dropping features with excessive missing values reduces the risk of introducing noice."
   ]
  },
  {
   "cell_type": "code",
   "execution_count": 14,
   "metadata": {},
   "outputs": [],
   "source": [
    "# Separate the features and the target variables\n",
    "X = data.drop(columns=['h1n1_vaccine', 'seasonal_vaccine'])\n",
    "y_h1n1 = data['h1n1_vaccine']\n",
    "y_seasonal = data['seasonal_vaccine']\n",
    "\n",
    "# split the data into training and test data\n",
    "X_train, X_test, y_h1n1_train, y_h1n1_test, y_seasonal_train, y_seasonal_test = train_test_split(\n",
    "    X, y_h1n1, y_seasonal, test_size=0.2, random_state=42\n",
    ")"
   ]
  },
  {
   "cell_type": "markdown",
   "metadata": {},
   "source": [
    "***X variables*** - Independent variables used as inputs for the model to make predictions.\n",
    "\n",
    "***y variables*** - Dependent variables the model aims to predict. The model aims to predict whether a respondent received the h1n1 vaccine or the seasonal vaccine"
   ]
  },
  {
   "cell_type": "code",
   "execution_count": 15,
   "metadata": {},
   "outputs": [],
   "source": [
    "# Separate numerical and categorical features\n",
    "numerical_features = X.select_dtypes(include=['float64', 'int64']).columns\n",
    "categorical_features = X.select_dtypes(include=['object']).columns"
   ]
  },
  {
   "cell_type": "code",
   "execution_count": 16,
   "metadata": {},
   "outputs": [
    {
     "data": {
      "text/plain": [
       "Index(['age_group', 'education', 'race', 'sex', 'marital_status',\n",
       "       'rent_or_own', 'employment_status', 'hhs_geo_region', 'census_msa'],\n",
       "      dtype='object')"
      ]
     },
     "execution_count": 16,
     "metadata": {},
     "output_type": "execute_result"
    }
   ],
   "source": [
    "categorical_features"
   ]
  },
  {
   "cell_type": "markdown",
   "metadata": {},
   "source": [
    "Separating numerical and categorical features is important as different data types often require different treatements during machine learning."
   ]
  },
  {
   "cell_type": "markdown",
   "metadata": {},
   "source": [
    "### Preprocessing Training Data"
   ]
  },
  {
   "cell_type": "code",
   "execution_count": 17,
   "metadata": {},
   "outputs": [],
   "source": [
    "# Handle missing values\n",
    "num_imputer = SimpleImputer(strategy='median')\n",
    "X_train_num = num_imputer.fit_transform(X_train[numerical_features])\n",
    "\n",
    "cat_imputer = SimpleImputer(strategy='most_frequent')\n",
    "X_train_cat = cat_imputer.fit_transform(X_train[categorical_features])"
   ]
  },
  {
   "cell_type": "markdown",
   "metadata": {},
   "source": [
    "Numerical and categorical data represent different information, requiring tailored imputation strategies.\n",
    "\n",
    "- Median - Median works well for numerical data to avoid distortion by outliers.\n",
    "\n",
    "- Mode - Mode works for categorical data to maintain category consistency."
   ]
  },
  {
   "cell_type": "code",
   "execution_count": 18,
   "metadata": {},
   "outputs": [],
   "source": [
    "# Scale numerical features\n",
    "scaler = StandardScaler()\n",
    "X_train_num_scaled = scaler.fit_transform(X_train_num)"
   ]
  },
  {
   "cell_type": "markdown",
   "metadata": {},
   "source": [
    "Scaling data ensures numerical features have the same scale, preventing features with large ranges from dominating the model.\n",
    "\n",
    "Standardizes the numerical features so they have a mean of 0 and a standard deviation of 1."
   ]
  },
  {
   "cell_type": "code",
   "execution_count": 19,
   "metadata": {},
   "outputs": [],
   "source": [
    "# Encode categorical features\n",
    "encoder = OneHotEncoder(handle_unknown='ignore', sparse=False)\n",
    "X_train_cat_encoded = encoder.fit_transform(X_train_cat)"
   ]
  },
  {
   "cell_type": "code",
   "execution_count": 20,
   "metadata": {},
   "outputs": [
    {
     "data": {
      "text/html": [
       "<div>\n",
       "<style scoped>\n",
       "    .dataframe tbody tr th:only-of-type {\n",
       "        vertical-align: middle;\n",
       "    }\n",
       "\n",
       "    .dataframe tbody tr th {\n",
       "        vertical-align: top;\n",
       "    }\n",
       "\n",
       "    .dataframe thead th {\n",
       "        text-align: right;\n",
       "    }\n",
       "</style>\n",
       "<table border=\"1\" class=\"dataframe\">\n",
       "  <thead>\n",
       "    <tr style=\"text-align: right;\">\n",
       "      <th></th>\n",
       "      <th>age_group</th>\n",
       "      <th>education</th>\n",
       "      <th>race</th>\n",
       "      <th>sex</th>\n",
       "      <th>marital_status</th>\n",
       "      <th>rent_or_own</th>\n",
       "      <th>employment_status</th>\n",
       "      <th>hhs_geo_region</th>\n",
       "      <th>census_msa</th>\n",
       "    </tr>\n",
       "  </thead>\n",
       "  <tbody>\n",
       "    <tr>\n",
       "      <th>24706</th>\n",
       "      <td>45 - 54 Years</td>\n",
       "      <td>Some College</td>\n",
       "      <td>White</td>\n",
       "      <td>Female</td>\n",
       "      <td>Married</td>\n",
       "      <td>Rent</td>\n",
       "      <td>Unemployed</td>\n",
       "      <td>lzgpxyit</td>\n",
       "      <td>MSA, Not Principle  City</td>\n",
       "    </tr>\n",
       "    <tr>\n",
       "      <th>5393</th>\n",
       "      <td>45 - 54 Years</td>\n",
       "      <td>College Graduate</td>\n",
       "      <td>White</td>\n",
       "      <td>Male</td>\n",
       "      <td>Not Married</td>\n",
       "      <td>Own</td>\n",
       "      <td>Employed</td>\n",
       "      <td>lzgpxyit</td>\n",
       "      <td>MSA, Not Principle  City</td>\n",
       "    </tr>\n",
       "    <tr>\n",
       "      <th>20898</th>\n",
       "      <td>35 - 44 Years</td>\n",
       "      <td>NaN</td>\n",
       "      <td>White</td>\n",
       "      <td>Male</td>\n",
       "      <td>Married</td>\n",
       "      <td>NaN</td>\n",
       "      <td>Employed</td>\n",
       "      <td>qufhixun</td>\n",
       "      <td>MSA, Not Principle  City</td>\n",
       "    </tr>\n",
       "    <tr>\n",
       "      <th>3429</th>\n",
       "      <td>45 - 54 Years</td>\n",
       "      <td>College Graduate</td>\n",
       "      <td>Other or Multiple</td>\n",
       "      <td>Female</td>\n",
       "      <td>Not Married</td>\n",
       "      <td>Own</td>\n",
       "      <td>Employed</td>\n",
       "      <td>bhuqouqj</td>\n",
       "      <td>Non-MSA</td>\n",
       "    </tr>\n",
       "    <tr>\n",
       "      <th>8731</th>\n",
       "      <td>65+ Years</td>\n",
       "      <td>College Graduate</td>\n",
       "      <td>Black</td>\n",
       "      <td>Female</td>\n",
       "      <td>Not Married</td>\n",
       "      <td>Own</td>\n",
       "      <td>Not in Labor Force</td>\n",
       "      <td>mlyzmhmf</td>\n",
       "      <td>MSA, Principle City</td>\n",
       "    </tr>\n",
       "    <tr>\n",
       "      <th>...</th>\n",
       "      <td>...</td>\n",
       "      <td>...</td>\n",
       "      <td>...</td>\n",
       "      <td>...</td>\n",
       "      <td>...</td>\n",
       "      <td>...</td>\n",
       "      <td>...</td>\n",
       "      <td>...</td>\n",
       "      <td>...</td>\n",
       "    </tr>\n",
       "    <tr>\n",
       "      <th>21575</th>\n",
       "      <td>55 - 64 Years</td>\n",
       "      <td>Some College</td>\n",
       "      <td>White</td>\n",
       "      <td>Male</td>\n",
       "      <td>Not Married</td>\n",
       "      <td>Own</td>\n",
       "      <td>Not in Labor Force</td>\n",
       "      <td>qufhixun</td>\n",
       "      <td>MSA, Principle City</td>\n",
       "    </tr>\n",
       "    <tr>\n",
       "      <th>5390</th>\n",
       "      <td>55 - 64 Years</td>\n",
       "      <td>Some College</td>\n",
       "      <td>White</td>\n",
       "      <td>Male</td>\n",
       "      <td>Not Married</td>\n",
       "      <td>Own</td>\n",
       "      <td>Unemployed</td>\n",
       "      <td>mlyzmhmf</td>\n",
       "      <td>MSA, Principle City</td>\n",
       "    </tr>\n",
       "    <tr>\n",
       "      <th>860</th>\n",
       "      <td>55 - 64 Years</td>\n",
       "      <td>12 Years</td>\n",
       "      <td>White</td>\n",
       "      <td>Female</td>\n",
       "      <td>Married</td>\n",
       "      <td>Own</td>\n",
       "      <td>Employed</td>\n",
       "      <td>qufhixun</td>\n",
       "      <td>Non-MSA</td>\n",
       "    </tr>\n",
       "    <tr>\n",
       "      <th>15795</th>\n",
       "      <td>35 - 44 Years</td>\n",
       "      <td>College Graduate</td>\n",
       "      <td>Black</td>\n",
       "      <td>Female</td>\n",
       "      <td>Married</td>\n",
       "      <td>Own</td>\n",
       "      <td>Employed</td>\n",
       "      <td>kbazzjca</td>\n",
       "      <td>MSA, Principle City</td>\n",
       "    </tr>\n",
       "    <tr>\n",
       "      <th>23654</th>\n",
       "      <td>18 - 34 Years</td>\n",
       "      <td>12 Years</td>\n",
       "      <td>Black</td>\n",
       "      <td>Male</td>\n",
       "      <td>Not Married</td>\n",
       "      <td>Rent</td>\n",
       "      <td>Employed</td>\n",
       "      <td>fpwskwrf</td>\n",
       "      <td>MSA, Not Principle  City</td>\n",
       "    </tr>\n",
       "  </tbody>\n",
       "</table>\n",
       "<p>21365 rows × 9 columns</p>\n",
       "</div>"
      ],
      "text/plain": [
       "           age_group         education               race     sex  \\\n",
       "24706  45 - 54 Years      Some College              White  Female   \n",
       "5393   45 - 54 Years  College Graduate              White    Male   \n",
       "20898  35 - 44 Years               NaN              White    Male   \n",
       "3429   45 - 54 Years  College Graduate  Other or Multiple  Female   \n",
       "8731       65+ Years  College Graduate              Black  Female   \n",
       "...              ...               ...                ...     ...   \n",
       "21575  55 - 64 Years      Some College              White    Male   \n",
       "5390   55 - 64 Years      Some College              White    Male   \n",
       "860    55 - 64 Years          12 Years              White  Female   \n",
       "15795  35 - 44 Years  College Graduate              Black  Female   \n",
       "23654  18 - 34 Years          12 Years              Black    Male   \n",
       "\n",
       "      marital_status rent_or_own   employment_status hhs_geo_region  \\\n",
       "24706        Married        Rent          Unemployed       lzgpxyit   \n",
       "5393     Not Married         Own            Employed       lzgpxyit   \n",
       "20898        Married         NaN            Employed       qufhixun   \n",
       "3429     Not Married         Own            Employed       bhuqouqj   \n",
       "8731     Not Married         Own  Not in Labor Force       mlyzmhmf   \n",
       "...              ...         ...                 ...            ...   \n",
       "21575    Not Married         Own  Not in Labor Force       qufhixun   \n",
       "5390     Not Married         Own          Unemployed       mlyzmhmf   \n",
       "860          Married         Own            Employed       qufhixun   \n",
       "15795        Married         Own            Employed       kbazzjca   \n",
       "23654    Not Married        Rent            Employed       fpwskwrf   \n",
       "\n",
       "                     census_msa  \n",
       "24706  MSA, Not Principle  City  \n",
       "5393   MSA, Not Principle  City  \n",
       "20898  MSA, Not Principle  City  \n",
       "3429                    Non-MSA  \n",
       "8731        MSA, Principle City  \n",
       "...                         ...  \n",
       "21575       MSA, Principle City  \n",
       "5390        MSA, Principle City  \n",
       "860                     Non-MSA  \n",
       "15795       MSA, Principle City  \n",
       "23654  MSA, Not Principle  City  \n",
       "\n",
       "[21365 rows x 9 columns]"
      ]
     },
     "execution_count": 20,
     "metadata": {},
     "output_type": "execute_result"
    }
   ],
   "source": [
    "X_train[categorical_features]"
   ]
  },
  {
   "cell_type": "markdown",
   "metadata": {},
   "source": [
    "Converts categorical features into a numerical format which is necessary when working models such as Logistic Regression."
   ]
  },
  {
   "cell_type": "code",
   "execution_count": 21,
   "metadata": {},
   "outputs": [
    {
     "data": {
      "text/plain": [
       "(21365, 58)"
      ]
     },
     "execution_count": 21,
     "metadata": {},
     "output_type": "execute_result"
    }
   ],
   "source": [
    "# Combine preprocessed numerical and categorical features\n",
    "X_train_preprocessed = np.hstack((X_train_num_scaled, X_train_cat_encoded))\n",
    "X_train_preprocessed.shape"
   ]
  },
  {
   "cell_type": "markdown",
   "metadata": {},
   "source": [
    "### Preprocessing Testing Data"
   ]
  },
  {
   "cell_type": "code",
   "execution_count": 22,
   "metadata": {},
   "outputs": [],
   "source": [
    "# Apply the same transformations to the test set\n",
    "X_test_num = num_imputer.transform(X_test[numerical_features])\n",
    "X_test_cat = cat_imputer.transform(X_test[categorical_features])\n",
    "\n",
    "X_test_num_scaled = scaler.transform(X_test_num)\n",
    "X_test_cat_encoded = encoder.transform(X_test_cat)\n",
    "\n",
    "X_test_preprocessed = np.hstack((X_test_num_scaled, X_test_cat_encoded))\n",
    "# X_test_preprocessed = pd.concat([X_test_num_scaled, X_test_cat_encoded], axis=1)"
   ]
  },
  {
   "cell_type": "markdown",
   "metadata": {},
   "source": [
    "### Logistic Regression"
   ]
  },
  {
   "cell_type": "markdown",
   "metadata": {},
   "source": [
    "Logistic Regression is a probabilistic model that predicts the probability of a binary outcome based on the input features.\n",
    "\n",
    "**Logistic Regression** is suitable for this analysis because both the H1N1 vaccine and seasonal flu vaccine columns are binary. \n",
    "\n"
   ]
  },
  {
   "cell_type": "code",
   "execution_count": 23,
   "metadata": {},
   "outputs": [
    {
     "name": "stdout",
     "output_type": "stream",
     "text": [
      "H1N1 Vaccine ROC AUC: 0.8268\n",
      "Classification Report:\n",
      "               precision    recall  f1-score   support\n",
      "\n",
      "           0       0.86      0.95      0.90      4212\n",
      "           1       0.70      0.42      0.53      1130\n",
      "\n",
      "    accuracy                           0.84      5342\n",
      "   macro avg       0.78      0.69      0.72      5342\n",
      "weighted avg       0.83      0.84      0.82      5342\n",
      "\n"
     ]
    }
   ],
   "source": [
    "# Train a Logistic Regression model for H1N1 vaccine\n",
    "model_h1n1 = LogisticRegression(max_iter=500, random_state=42)\n",
    "model_h1n1.fit(X_train_preprocessed, y_h1n1_train)\n",
    "\n",
    "# Predict probabilities\n",
    "y_h1n1_pred = model_h1n1.predict_proba(X_test_preprocessed)[:, 1]\n",
    "h1n1_auc = roc_auc_score(y_h1n1_test, y_h1n1_pred)\n",
    "\n",
    "print(f\"H1N1 Vaccine ROC AUC: {h1n1_auc:.4f}\")\n",
    "\n",
    "# Predict class labels for classsification report\n",
    "y_pred_h1n1_labels = model_h1n1.predict(X_test_preprocessed)\n",
    "print(\"Classification Report:\\n\", classification_report(y_h1n1_test, y_pred_h1n1_labels))\n",
    "\n"
   ]
  },
  {
   "cell_type": "markdown",
   "metadata": {},
   "source": [
    "The ROC-AUC score indicates that the model is able to distinguish whether a patient is vaccinated or not vaccinated 82.68% of the time with the H1N1 vaccine. This suggests that the model has good discriminatory power."
   ]
  },
  {
   "cell_type": "markdown",
   "metadata": {},
   "source": [
    "Class 0 (Non-vaccinated for H1N1):\n",
    "\n",
    "- Precision (0.86): Out of all the samples predicted as not vaccinated, 86% are correct.\n",
    "\n",
    "- Recall (0.95): The model correctly identifies 95% of the actual not vaccinated samples.\n",
    "\n",
    "- F1-score (0.90): A harmonic mean of precision and recall for not vaccinated, indicating strong performance.\n",
    "\n",
    "Class 1 (Vaccinated for H1N1):\n",
    "\n",
    "- Precision (0.70): Out of all the samples predicted as vaccinated, 70% are correct.\n",
    "\n",
    "- Recall (0.42): The model correctly identifies 42% of the actual vaccinated samples. This is relatively low, suggesting difficulty in identifying true vaccinated cases.\n",
    "\n",
    "- F1-score (0.53): Indicates mediocre performance for vaccinated, as the recall is low."
   ]
  },
  {
   "cell_type": "code",
   "execution_count": 24,
   "metadata": {},
   "outputs": [
    {
     "name": "stdout",
     "output_type": "stream",
     "text": [
      "Seasonal Vaccine ROC AUC: 0.8516\n",
      "Classification Report:\n",
      "               precision    recall  f1-score   support\n",
      "\n",
      "           0       0.79      0.81      0.80      2891\n",
      "           1       0.77      0.74      0.76      2451\n",
      "\n",
      "    accuracy                           0.78      5342\n",
      "   macro avg       0.78      0.78      0.78      5342\n",
      "weighted avg       0.78      0.78      0.78      5342\n",
      "\n"
     ]
    }
   ],
   "source": [
    "# Training a Logistic Regression model for seasonal vaccine\n",
    "model_seasonal = LogisticRegression(max_iter=500, random_state=42)\n",
    "model_seasonal.fit(X_train_preprocessed, y_seasonal_train)\n",
    "\n",
    "# predict probabilities\n",
    "y_seasonal_pred = model_seasonal.predict_proba(X_test_preprocessed)[:, 1]\n",
    "seasonal_auc = roc_auc_score(y_seasonal_test, y_seasonal_pred)\n",
    "\n",
    "print(f\"Seasonal Vaccine ROC AUC: {seasonal_auc:.4f}\")\n",
    "\n",
    "# Predict class labels for classsification report\n",
    "y_pred_snl_labels = model_seasonal.predict(X_test_preprocessed)\n",
    "print(\"Classification Report:\\n\", classification_report(y_seasonal_test, y_pred_snl_labels))\n",
    "\n"
   ]
  },
  {
   "cell_type": "markdown",
   "metadata": {},
   "source": [
    "The ROC-AUC score indicates that the model is able to distinguish whether a patient is vaccinated or not vaccinated 85.16% of the time with the seasonal flu vaccine."
   ]
  },
  {
   "cell_type": "markdown",
   "metadata": {},
   "source": [
    "Class 0 (Non-vaccinated for seasonal flu):\n",
    "\n",
    "- Precision (0.79): Out of all the samples predicted as not vaccinated, 79% are correct.\n",
    "\n",
    "- Recall (0.81): The model correctly identifies 81% of the actual not vaccinated samples.\n",
    "\n",
    "- F1-score (0.80): A harmonic mean of precision and recall for not vaccinated, indicating strong performance.\n",
    "\n",
    "Class 1 (Vaccinated for seasonal flu):\n",
    "\n",
    "- Precision (0.77): Out of all the samples predicted as vaccinated, 77% are correct.\n",
    "\n",
    "- Recall (0.74): The model correctly identifies 74% of the actual vaccinated samples. This is relatively low, suggesting difficulty in identifying true vaccinated cases.\n",
    "\n",
    "- F1-score (0.76): Indicates mediocre performance for vaccinated, as the recall is low."
   ]
  },
  {
   "cell_type": "markdown",
   "metadata": {},
   "source": [
    "### Pros and cons of using Logistic Regression\n",
    "\n",
    "**Pros:**\n",
    "\n",
    "1. Simple and interpretable: Logistic Regression is easy to understand and interpret, making it a good choice for initial analysis.\n",
    "\n",
    "2. Fast and efficient: Logistic Regression is computationally efficient and can handle large datasets.\n",
    "\n",
    "3. Works well with both numerical and categorical data: Logistic Regression can handle both numerical and categorical features, making it a flexible and powerful tool for analyzing data.\n",
    "\n",
    "**Cons:**\n",
    "\n",
    "1. Assumes linear relationship between features and the target variable: Logistic Regression assumes that the relationship between the features and the target variable is linear. If the relationship is non-linear, the model may not perform well.\n",
    "\n",
    "2. Assumes independence of features: Logistic Regression assumes that the features are independent of each other. If there are correlations between features, the model may not perform well.\n",
    "\n"
   ]
  },
  {
   "cell_type": "markdown",
   "metadata": {},
   "source": [
    "### Random Forest Classifier"
   ]
  },
  {
   "cell_type": "markdown",
   "metadata": {},
   "source": [
    "A Random Forest Classifier is a supervised machine learning algorithm used for classification tasks. It is based on an ensemble learning technique, where multiple decision trees are trained on subsets of the data, and their predictions are aggregated (usually by majority vote) to make a final prediction."
   ]
  },
  {
   "cell_type": "markdown",
   "metadata": {},
   "source": [
    "#### Untuned Random Forest Classifier"
   ]
  },
  {
   "cell_type": "code",
   "execution_count": 25,
   "metadata": {},
   "outputs": [
    {
     "name": "stdout",
     "output_type": "stream",
     "text": [
      "H1n1 Random Forest AUC(untuned):  0.8246229693501079\n"
     ]
    }
   ],
   "source": [
    "# Random Forest Classifier without tuning for H1N1\n",
    "rf_h1n1 = RandomForestClassifier(random_state=42)\n",
    "rf_h1n1.fit(X_train_preprocessed, y_h1n1_train)\n",
    "h1n1_rf_probs = rf_h1n1.predict_proba(X_test_preprocessed)[:, 1]\n",
    "h1n1_rf_auc = roc_auc_score(y_h1n1_test, h1n1_rf_probs)\n",
    "print(\"H1n1 Random Forest AUC(untuned): \", h1n1_rf_auc)\n",
    "# print(\"Classification Report:\\n\", classification_report(h1n1_rf_auc))"
   ]
  },
  {
   "cell_type": "markdown",
   "metadata": {},
   "source": [
    "An AUC score of 0.8246 means the model has a strong ability to distinguish between the two classes that is vaccinated vs. not vaccinated for H1N1."
   ]
  },
  {
   "cell_type": "markdown",
   "metadata": {},
   "source": [
    "Despite being untuned, the Random Forest model performs well and achieves a similar AUC to the logistic regression model (AUC = 0.8268). This suggests the dataset provides enough useful features for classification."
   ]
  },
  {
   "cell_type": "code",
   "execution_count": 26,
   "metadata": {},
   "outputs": [
    {
     "name": "stdout",
     "output_type": "stream",
     "text": [
      "Seasonal Random Forest AUC(untuned):  0.84894291305718\n"
     ]
    }
   ],
   "source": [
    "# Random Forest Classifier without tuning for Seasonal\n",
    "rf_seasonal = RandomForestClassifier(random_state=42)\n",
    "rf_seasonal.fit(X_train_preprocessed, y_seasonal_train)\n",
    "seasonal_rf_probs = rf_seasonal.predict_proba(X_test_preprocessed)[:, 1]\n",
    "seasonal_rf_auc = roc_auc_score(y_seasonal_test, seasonal_rf_probs)\n",
    "print(\"Seasonal Random Forest AUC(untuned): \", seasonal_rf_auc)\n",
    "# print(\"Classification Report:\\n\", classification_report(seasonal_rf_auc))"
   ]
  },
  {
   "cell_type": "markdown",
   "metadata": {},
   "source": [
    "An AUC score of 0.8489 means the model has a strong ability to distinguish between the two classes that is vaccinated vs. not vaccinated for Seasonal flu."
   ]
  },
  {
   "cell_type": "markdown",
   "metadata": {},
   "source": [
    "The h1n1 untuned Random Forest's AUC (0.8249) is slightly lower than Logistic Regression's AUC (0.8268), but the difference is minimal. This indicates that both models are capturing the data patterns effectively."
   ]
  },
  {
   "cell_type": "markdown",
   "metadata": {},
   "source": [
    "#### Tuned Random Forest Classifier"
   ]
  },
  {
   "cell_type": "markdown",
   "metadata": {},
   "source": [
    "### Hyperparameter Tuning"
   ]
  },
  {
   "cell_type": "markdown",
   "metadata": {},
   "source": [
    "\n",
    "Hyperparameter tuning is the process of selecting the best set of hyperparameters for a machine learning model to optimize its performance on a given dataset."
   ]
  },
  {
   "cell_type": "code",
   "execution_count": 27,
   "metadata": {},
   "outputs": [],
   "source": [
    "# Hyperparameter tuning for Random Forest\n",
    "param_grid = {\n",
    "    'n_estimators': [50, 100, 200],\n",
    "    'max_depth': [None, 10, 20, 30],\n",
    "    'min_samples_split': [2, 5, 10]\n",
    "}"
   ]
  },
  {
   "cell_type": "code",
   "execution_count": 28,
   "metadata": {},
   "outputs": [
    {
     "name": "stdout",
     "output_type": "stream",
     "text": [
      "Fitting 3 folds for each of 36 candidates, totalling 108 fits\n"
     ]
    },
    {
     "name": "stderr",
     "output_type": "stream",
     "text": [
      "[Parallel(n_jobs=-1)]: Using backend LokyBackend with 4 concurrent workers.\n",
      "[Parallel(n_jobs=-1)]: Done  33 tasks      | elapsed:  1.1min\n",
      "[Parallel(n_jobs=-1)]: Done 108 out of 108 | elapsed:  3.2min finished\n"
     ]
    },
    {
     "name": "stdout",
     "output_type": "stream",
     "text": [
      "Best Hyperparameters for H1N1: {'max_depth': 10, 'min_samples_split': 2, 'n_estimators': 200}\n"
     ]
    }
   ],
   "source": [
    "# Initialize Random Forest Classifier\n",
    "rf = RandomForestClassifier(random_state=42)\n",
    "\n",
    "# GridSearchCV for H1N1 Vaccine Prediction\n",
    "grid_search_h1n1 = GridSearchCV(\n",
    "    estimator=rf,\n",
    "    param_grid=param_grid,\n",
    "    scoring='roc_auc',\n",
    "    cv=3,  # 3-fold cross-validation\n",
    "    verbose=2,\n",
    "    n_jobs=-1\n",
    ")\n",
    "\n",
    "# Fit the GridSearch for H1N1\n",
    "grid_search_h1n1.fit(X_train_preprocessed, y_h1n1_train)\n",
    "\n",
    "# Best Hyperparameters and Score for H1N1\n",
    "best_h1n1_params = grid_search_h1n1.best_params_\n",
    "best_h1n1_score = grid_search_h1n1.best_score_\n",
    "print(f\"Best Hyperparameters for H1N1: {best_h1n1_params}\")"
   ]
  },
  {
   "cell_type": "markdown",
   "metadata": {},
   "source": [
    "Finds the best hyperparameters for tuning the random forest classifier model."
   ]
  },
  {
   "cell_type": "code",
   "execution_count": 29,
   "metadata": {},
   "outputs": [
    {
     "name": "stdout",
     "output_type": "stream",
     "text": [
      "Fitting 3 folds for each of 36 candidates, totalling 108 fits\n"
     ]
    },
    {
     "name": "stderr",
     "output_type": "stream",
     "text": [
      "[Parallel(n_jobs=-1)]: Using backend LokyBackend with 4 concurrent workers.\n",
      "[Parallel(n_jobs=-1)]: Done  33 tasks      | elapsed:   46.9s\n",
      "[Parallel(n_jobs=-1)]: Done 108 out of 108 | elapsed:  2.5min finished\n"
     ]
    },
    {
     "name": "stdout",
     "output_type": "stream",
     "text": [
      "Best Hyperparameters for Seasonal: {'max_depth': 20, 'min_samples_split': 10, 'n_estimators': 200}\n"
     ]
    }
   ],
   "source": [
    "# GridSearchCV for Seasonal Vaccine Prediction\n",
    "grid_search_seasonal = GridSearchCV(\n",
    "    estimator=rf,\n",
    "    param_grid=param_grid,\n",
    "    scoring='roc_auc',\n",
    "    cv=3,\n",
    "    verbose=2,\n",
    "    n_jobs=-1\n",
    ")\n",
    "\n",
    "# Fit the GridSearch for Seasonal Vaccine\n",
    "grid_search_seasonal.fit(X_train_preprocessed, y_seasonal_train)\n",
    "\n",
    "# Best Hyperparameters and Score for Seasonal\n",
    "best_seasonal_params = grid_search_seasonal.best_params_\n",
    "best_seasonal_score = grid_search_seasonal.best_score_\n",
    "print(f\"Best Hyperparameters for Seasonal: {best_seasonal_params}\")\n"
   ]
  },
  {
   "cell_type": "code",
   "execution_count": 30,
   "metadata": {},
   "outputs": [
    {
     "name": "stdout",
     "output_type": "stream",
     "text": [
      "Optimized H1N1 Vaccine rf AUC Score: 0.8317964265604383\n",
      "Optimized Seasonal Vaccine rf AUC Score: 0.8524835654652708\n",
      "\n",
      "Classification Report for Optimized H1N1 Vaccine Model:\n",
      "              precision    recall  f1-score   support\n",
      "\n",
      "           0       0.85      0.97      0.90      4212\n",
      "           1       0.74      0.35      0.47      1130\n",
      "\n",
      "    accuracy                           0.84      5342\n",
      "   macro avg       0.79      0.66      0.69      5342\n",
      "weighted avg       0.82      0.84      0.81      5342\n",
      "\n",
      "\n",
      "Classification Report for Optimized Seasonal Vaccine Model:\n",
      "              precision    recall  f1-score   support\n",
      "\n",
      "           0       0.79      0.82      0.80      2891\n",
      "           1       0.77      0.74      0.76      2451\n",
      "\n",
      "    accuracy                           0.78      5342\n",
      "   macro avg       0.78      0.78      0.78      5342\n",
      "weighted avg       0.78      0.78      0.78      5342\n",
      "\n"
     ]
    }
   ],
   "source": [
    "# Get the best models\n",
    "best_rf_h1n1 = grid_search_h1n1.best_estimator_\n",
    "best_rf_seasonal = grid_search_seasonal.best_estimator_\n",
    "\n",
    "# Predict probabilities\n",
    "h1n1_probs = best_rf_h1n1.predict_proba(X_test_preprocessed)[:, 1]\n",
    "seasonal_probs = best_rf_seasonal.predict_proba(X_test_preprocessed)[:, 1]\n",
    "\n",
    "# Predict classes for H1N1 and seasonal Vaccine\n",
    "h1n1_predictions = best_rf_h1n1.predict(X_test_preprocessed)\n",
    "seasonal_predictions = best_rf_seasonal.predict(X_test_preprocessed)\n",
    "\n",
    "# Calculate AUC scores\n",
    "h1n1_auc = roc_auc_score(y_h1n1_test, h1n1_probs)\n",
    "seasonal_auc = roc_auc_score(y_seasonal_test, seasonal_probs)\n",
    "\n",
    "print(f\"Optimized H1N1 Vaccine rf AUC Score: {h1n1_auc}\")\n",
    "print(f\"Optimized Seasonal Vaccine rf AUC Score: {seasonal_auc}\")\n",
    "\n",
    "# Classification Reports\n",
    "print(\"\\nClassification Report for Optimized H1N1 Vaccine Model:\")\n",
    "print(classification_report(y_h1n1_test, h1n1_predictions))\n",
    "\n",
    "print(\"\\nClassification Report for Optimized Seasonal Vaccine Model:\")\n",
    "print(classification_report(y_seasonal_test, seasonal_predictions))"
   ]
  },
  {
   "cell_type": "markdown",
   "metadata": {},
   "source": [
    "- H1N1 Vaccine \n",
    "***Improvment***\n",
    "The optimized model achieved an AUC score of 0.8318, which is an improvement over:\n",
    "  - The untuned Random forest AUC of 0.8246.\n",
    "  - The Logistic Regression AUC score of 0.8268"
   ]
  },
  {
   "cell_type": "markdown",
   "metadata": {},
   "source": [
    "Precision: 0.85 for class 0 (no vaccine), 0.74 for class 1 (vaccine)\n",
    "\n",
    "Recall: 0.97 for class 0, 0.35 for class 1\n",
    "\n",
    "F1-score: 0.90 for class 0, 0.47 for class 1\n",
    "\n",
    "Accuracy: 0.79"
   ]
  },
  {
   "cell_type": "markdown",
   "metadata": {},
   "source": [
    "Precision: 0.79 for class 0 (no vaccine), 0.77 for class 1 (vaccine)\n",
    "\n",
    "Recall: 0.82 for class 0, 0.74 for class 1\n",
    "\n",
    "F1-score: 0.82 for class 0, 0.76 for class 1\n",
    "\n",
    "Accuracy: 0.78\n"
   ]
  },
  {
   "cell_type": "markdown",
   "metadata": {},
   "source": [
    "### Pros and Cons of Using a Random Forest Classifier for the H1N1 and Seasonal Flu Dataset"
   ]
  },
  {
   "cell_type": "markdown",
   "metadata": {},
   "source": [
    "**Pros**\n",
    "\n",
    "1. Handles Missing and Noisy Data well.\n",
    "\n",
    "2. Random Forest providesfeatures importance metrics, which help identify the most significant factors influencing vaccine uptake.\n",
    "\n",
    "3. Random Forest captures complex, nonlinear relationships between features and the target variable. \n",
    "\n",
    "**Cons**\n",
    "\n",
    "1. Random Forest is computationally expensive compared to simpler models like Logistic Regression, especially with many trees or large datasets.\n",
    "\n"
   ]
  },
  {
   "cell_type": "markdown",
   "metadata": {},
   "source": [
    "### Individual probabilities of taking H1N1 and Seasonal flu vaccine"
   ]
  },
  {
   "cell_type": "code",
   "execution_count": 31,
   "metadata": {},
   "outputs": [
    {
     "data": {
      "text/html": [
       "<div>\n",
       "<style scoped>\n",
       "    .dataframe tbody tr th:only-of-type {\n",
       "        vertical-align: middle;\n",
       "    }\n",
       "\n",
       "    .dataframe tbody tr th {\n",
       "        vertical-align: top;\n",
       "    }\n",
       "\n",
       "    .dataframe thead th {\n",
       "        text-align: right;\n",
       "    }\n",
       "</style>\n",
       "<table border=\"1\" class=\"dataframe\">\n",
       "  <thead>\n",
       "    <tr style=\"text-align: right;\">\n",
       "      <th></th>\n",
       "      <th>respondent_id</th>\n",
       "      <th>h1n1_vaccine</th>\n",
       "      <th>seasonal_vaccine</th>\n",
       "    </tr>\n",
       "  </thead>\n",
       "  <tbody>\n",
       "    <tr>\n",
       "      <th>15772</th>\n",
       "      <td>15772</td>\n",
       "      <td>0.122346</td>\n",
       "      <td>0.283610</td>\n",
       "    </tr>\n",
       "    <tr>\n",
       "      <th>9407</th>\n",
       "      <td>9407</td>\n",
       "      <td>0.117115</td>\n",
       "      <td>0.218975</td>\n",
       "    </tr>\n",
       "    <tr>\n",
       "      <th>16515</th>\n",
       "      <td>16515</td>\n",
       "      <td>0.099891</td>\n",
       "      <td>0.723227</td>\n",
       "    </tr>\n",
       "    <tr>\n",
       "      <th>23353</th>\n",
       "      <td>23353</td>\n",
       "      <td>0.206509</td>\n",
       "      <td>0.293323</td>\n",
       "    </tr>\n",
       "    <tr>\n",
       "      <th>10008</th>\n",
       "      <td>10008</td>\n",
       "      <td>0.120363</td>\n",
       "      <td>0.232303</td>\n",
       "    </tr>\n",
       "  </tbody>\n",
       "</table>\n",
       "</div>"
      ],
      "text/plain": [
       "       respondent_id  h1n1_vaccine  seasonal_vaccine\n",
       "15772          15772      0.122346          0.283610\n",
       "9407            9407      0.117115          0.218975\n",
       "16515          16515      0.099891          0.723227\n",
       "23353          23353      0.206509          0.293323\n",
       "10008          10008      0.120363          0.232303"
      ]
     },
     "execution_count": 31,
     "metadata": {},
     "output_type": "execute_result"
    }
   ],
   "source": [
    "probs_df = pd.DataFrame({\n",
    "    'respondent_id': X_test['respondent_id'],  \n",
    "    'h1n1_vaccine': h1n1_probs,\n",
    "    'seasonal_vaccine': seasonal_probs\n",
    "})\n",
    "\n",
    "\n",
    "probs_df.head()"
   ]
  },
  {
   "cell_type": "code",
   "execution_count": 32,
   "metadata": {},
   "outputs": [
    {
     "data": {
      "text/plain": [
       "0.21094159065364806"
      ]
     },
     "execution_count": 32,
     "metadata": {},
     "output_type": "execute_result"
    }
   ],
   "source": [
    "h1n1_vaccine_mean = np.mean(probs_df['h1n1_vaccine'])\n",
    "h1n1_vaccine_mean"
   ]
  },
  {
   "cell_type": "code",
   "execution_count": 33,
   "metadata": {},
   "outputs": [
    {
     "data": {
      "text/plain": [
       "0.46472912977645037"
      ]
     },
     "execution_count": 33,
     "metadata": {},
     "output_type": "execute_result"
    }
   ],
   "source": [
    "seasonal_vaccine_mean = np.mean(probs_df['seasonal_vaccine'])\n",
    "seasonal_vaccine_mean"
   ]
  },
  {
   "cell_type": "code",
   "execution_count": 34,
   "metadata": {},
   "outputs": [
    {
     "name": "stdout",
     "output_type": "stream",
     "text": [
      "Number of unique respondents: 5342\n"
     ]
    },
    {
     "data": {
      "image/png": "[encoded data removed]",
      "text/plain": [
       "<Figure size 576x360 with 1 Axes>"
      ]
     },
     "metadata": {},
     "output_type": "display_data"
    }
   ],
   "source": [
    "# Count of respondent_id\n",
    "respondent_count = probs_df['respondent_id'].nunique()\n",
    "print(f\"Number of unique respondents: {respondent_count}\")\n",
    "\n",
    "# Calculate mean probabilities for each vaccine\n",
    "mean_h1n1_prob = probs_df['h1n1_vaccine'].mean()\n",
    "mean_seasonal_prob = probs_df['seasonal_vaccine'].mean()\n",
    "\n",
    "# Create a bar graph\n",
    "plt.figure(figsize=(8, 5))\n",
    "plt.bar(['H1N1 Vaccine', 'Seasonal Vaccine'], [mean_h1n1_prob, mean_seasonal_prob])\n",
    "plt.xlabel('Vaccine Type')\n",
    "plt.ylabel('Mean Predicted Probability')\n",
    "plt.title('Comparison of Mean Predicted Probabilities')\n",
    "plt.show()"
   ]
  },
  {
   "cell_type": "markdown",
   "metadata": {},
   "source": [
    "The bar graph shows the comparison of mean predicted probabilities for H1N1 and seasonal flu vaccines. \n",
    "\n",
    "**Key Observations:**\n",
    "\n",
    "- Higher Probability for Seasonal Flu: The bar for the seasonal flu vaccine is significantly taller than the bar for the H1N1 vaccine. This indicates that the model, on average, predicts a higher probability of individuals receiving the seasonal flu vaccine compared to the H1N1 vaccine."
   ]
  },
  {
   "cell_type": "markdown",
   "metadata": {},
   "source": [
    "### Feature Importance"
   ]
  },
  {
   "cell_type": "markdown",
   "metadata": {},
   "source": [
    "**SHAP(SHapley Additive exPlanations)** is applied after the model has been trained.\n",
    "\n",
    "After spliting the data into training and testing datastes, SHAP is used to intepret the model predictions on the test set.\n",
    "\n",
    "This helps evaluate how well the  model generalizes to unseen data(X_test_preprocessed) and provide feature importance based on predictions made on the testing set.\n"
   ]
  },
  {
   "cell_type": "code",
   "execution_count": 35,
   "metadata": {},
   "outputs": [
    {
     "name": "stdout",
     "output_type": "stream",
     "text": [
      "H1N1 SHAP Summary Plot\n"
     ]
    },
    {
     "data": {
      "image/png": "[encoded data removed]",
      "text/plain": [
       "<Figure size 576x684 with 2 Axes>"
      ]
     },
     "metadata": {},
     "output_type": "display_data"
    }
   ],
   "source": [
    "import shap\n",
    "\n",
    "# SHAP Feature Importance for H1N1\n",
    "explainer_h1n1 = shap.Explainer(model_h1n1, X_train_preprocessed)\n",
    "shap_values_h1n1 = explainer_h1n1(X_test_preprocessed)\n",
    "\n",
    "print(\"H1N1 SHAP Summary Plot\")\n",
    "shap.summary_plot(shap_values_h1n1, X_test_preprocessed, feature_names=list(numerical_features) + list(encoder.get_feature_names()))\n",
    "\n"
   ]
  },
  {
   "cell_type": "markdown",
   "metadata": {},
   "source": [
    "**Insights**\n",
    "\n",
    "- Features like ***doctor_recc_h1n1*** and ***opinion_h1n1_vacc_effective*** show strong and consistent impacts on the prediction. High values contribute positively, indicating that a doctor’s recommendation or a favorable opinion strongly influences the outcome.\n",
    "\n"
   ]
  },
  {
   "cell_type": "markdown",
   "metadata": {},
   "source": [
    "**Top Features**\n",
    "\n",
    "- ***doctor_recc_h1n1***: A doctor’s recommendation for the H1N1 vaccine has the strongest positive impact on predicting vaccination likelihood.\n",
    "\n",
    "- ***opinion_h1n1_vacc_effective***: Favorable opinions about the vaccine's effectiveness also strongly influence the prediction positively.\n",
    "\n",
    "- ***opinion_h1n1_risk*** and ***opinion_seas_risk***: Perception of risk contributes to the likelihood of vaccination.\n",
    "\n",
    "- ***doctor_recc_seasonal***: A recommendation for the seasonal vaccine is also important, albeit slightly less than for H1N1."
   ]
  },
  {
   "cell_type": "markdown",
   "metadata": {},
   "source": [
    "**Recomendations**\n",
    "\n",
    "To increase vaccination rates, we should:\n",
    "\n",
    "1. Encourage doctors to actively recommend vaccines during patient visits.\n",
    "\n",
    "2. Create public campaigns that emphasize vaccine effectiveness.\n",
    "\n",
    "3. Raise awareness about the risks of H1N1 and Seasonal Flu, especially among vulnerable groups.\n"
   ]
  },
  {
   "cell_type": "code",
   "execution_count": 36,
   "metadata": {},
   "outputs": [
    {
     "name": "stdout",
     "output_type": "stream",
     "text": [
      "Seasonal SHAP Summary Plot\n"
     ]
    },
    {
     "data": {
      "image/png": "[encoded data removed]",
      "text/plain": [
       "<Figure size 576x684 with 2 Axes>"
      ]
     },
     "metadata": {},
     "output_type": "display_data"
    }
   ],
   "source": [
    "# SHAP Feature Importance for Seasonal\n",
    "explainer_seasonal = shap.Explainer(model_seasonal, X_train_preprocessed)\n",
    "shap_values_seasonal = explainer_seasonal(X_test_preprocessed)\n",
    "\n",
    "print(\"Seasonal SHAP Summary Plot\")\n",
    "shap.summary_plot(shap_values_seasonal, X_test_preprocessed, feature_names=list(numerical_features) + list(encoder.get_feature_names()))"
   ]
  },
  {
   "cell_type": "markdown",
   "metadata": {},
   "source": [
    "**Top Features**\n",
    "\n",
    "***opinion_seas_risk***:\n",
    "- High perceived risk (red) increases the likelihood of vaccination (positive SHAP values).\n",
    "- Low perceived risk (blue) reduces the likelihood (negative SHAP values).\n",
    "\n",
    "***doctor_recc_seasonal***:\n",
    "- When a doctor recommends the seasonal vaccine (high value, red), it strongly increases the likelihood of vaccination.\n",
    "\n",
    "***opinion_seas_sick_from_vacc***:\n",
    "- High concern about getting sick from the vaccine (red) decreases the likelihood of vaccination."
   ]
  },
  {
   "cell_type": "markdown",
   "metadata": {},
   "source": [
    "**Recommendations**\n",
    "\n",
    "To increase flu vaccination rates, we need to:\n",
    "\n",
    "1. Highlight the risks of catching the flu, especially for vulnerable groups.\n",
    "\n",
    "2. Empower doctors to emphasize the importance of getting vaccinated.\n",
    "\n",
    "3. Dispel myths and educate people about the safety of the flu vaccine\n"
   ]
  },
  {
   "cell_type": "markdown",
   "metadata": {},
   "source": [
    "### Conclusion\n",
    "\n",
    "Key Drivers of Vaccination Uptake:\n",
    "1. A doctor's recommendation is the strongest and most consistent factor influencing both H1N1 and Seasonal flu vaccination uptake. Public health organizations should work closely with healthcare providers to encourage vaccine recommendations during patient visits.\n",
    "\n",
    "2. Perceptions of vaccine effectiveness strongly influence decision-making. People who believe vaccines are effective are more likely to get vaccinated.\n",
    "\n",
    "3. Risk Perception plays a significant role. Individuals who perceive a high risk of contracting H1N1 or the Seasonal Flu are more inclined to get vaccinated, indicating the need for risk awareness campaigns.\n"
   ]
  }
 ],
 "metadata": {
  "kernelspec": {
   "display_name": "learn-env",
   "language": "python",
   "name": "python3"
  },
  "language_info": {
   "codemirror_mode": {
    "name": "ipython",
    "version": 3
   },
   "file_extension": ".py",
   "mimetype": "text/x-python",
   "name": "python",
   "nbconvert_exporter": "python",
   "pygments_lexer": "ipython3",
   "version": "3.8.5"
  }
 },
 "nbformat": 4,
 "nbformat_minor": 2
}
